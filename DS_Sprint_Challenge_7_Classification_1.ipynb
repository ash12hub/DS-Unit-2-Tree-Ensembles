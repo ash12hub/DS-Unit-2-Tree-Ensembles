{
 "cells": [
  {
   "cell_type": "markdown",
   "metadata": {
    "colab_type": "text",
    "id": "7NQhCv9N9NCo"
   },
   "source": [
    "_Lambda School Data Science, Unit 2_\n",
    " \n",
    "# Sprint Challenge: Predict Steph Curry's shots 🏀\n",
    "\n",
    "For your Sprint Challenge, you'll use a dataset with all Steph Curry's NBA field goal attempts. (Regular season and playoff games, from October 28, 2009, through June 5, 2019.) \n",
    "\n",
    "You'll use information about the shot and the game to predict whether the shot was made. This is hard to predict! Try for an accuracy score in the high 50's or low 60's. The dataset was collected with the [nba_api](https://github.com/swar/nba_api) Python library."
   ]
  },
  {
   "cell_type": "code",
   "execution_count": 1,
   "metadata": {
    "colab": {},
    "colab_type": "code",
    "id": "5RDEWI9c9NCr"
   },
   "outputs": [],
   "source": [
    "import pandas as pd\n",
    "url = 'https://drive.google.com/uc?export=download&id=1fL7KPyxgGYfQDsuJoBWHIWwCAf-HTFpX'\n",
    "df = pd.read_csv(url, parse_dates=['game_date']).set_index('game_date')\n",
    "assert df.shape == (13958, 19)"
   ]
  },
  {
   "cell_type": "markdown",
   "metadata": {
    "colab_type": "text",
    "id": "gWRX4uaY9NCw"
   },
   "source": [
    "This Sprint Challenge has two parts. To demonstrate mastery on each part, do all the required, numbered instructions. To earn a score of \"3\" for the part, also do the stretch goals.\n",
    "\n",
    "## Part 1. Prepare to model\n",
    "\n",
    "### Required\n",
    "\n",
    "1. **Do train/validate/test split.** Use the 2009-10 season through 2016-17 season to train, the 2017-18 season to validate, and the 2018-19 season to test. NBA seasons begin in October and end in June. You'll know you've split the data correctly when your train set has 11081 observations, your validation set has 1168 observations, and your test set has 1709 observations.\n",
    "2. **Begin with baselines for classification.** Your target to predict is `shot_made_flag`. What is the baseline accuracy for the validation set, if you guessed the majority class for every prediction?\n",
    "3. **Use Ordinal Encoding _or_ One-Hot Encoding,** for the categorical features you select.\n",
    "4. **Train a Random Forest _or_ Logistic Regression** with the features you select.\n",
    "\n",
    "### Stretch goals\n",
    "Engineer at least 4 of these 5 features:\n",
    "\n",
    "- **Homecourt Advantage**: Is the home team (`htm`) the Golden State Warriors (`GSW`) ?\n",
    "- **Opponent**: Who is the other team playing the Golden State Warriors?\n",
    "- **Seconds remaining in the period**: Combine minutes remaining with seconds remaining, to get the total number of seconds remaining in the period.\n",
    "- **Seconds remaining in the game**: Combine period, and seconds remaining in the period, to get the total number of seconds remaining in the game. A basketball game has 4 periods, each 12 minutes long.\n",
    "- **Made previous shot**: Was Steph Curry's previous shot successful?\n",
    "    \n",
    "\n",
    "## Part 2. Evaluate models\n",
    "\n",
    "### Required\n",
    "1. Get your model's **validation accuracy.** (Multiple times if you try multiple iterations.)\n",
    "2. Get your model's **test accuracy.** (One time, at the end.)\n",
    "3. Get and plot your Random Forest's **feature importances** _or_ your Logistic Regression's **coefficients.**\n",
    "4. Imagine this is the confusion matrix for a binary classification model. **Calculate accuracy, precision, and recall for this confusion matrix:**\n",
    "\n",
    "<table>\n",
    "  <tr>\n",
    "    <td colspan=\"2\" rowspan=\"2\"></td>\n",
    "    <td colspan=\"2\">Predicted</td>\n",
    "  </tr>\n",
    "  <tr>\n",
    "    <td>Negative</td>\n",
    "    <td>Positive</td>\n",
    "  </tr>\n",
    "  <tr>\n",
    "    <td rowspan=\"2\">Actual</td>\n",
    "    <td>Negative</td>\n",
    "    <td style=\"border: solid\">85</td>\n",
    "    <td style=\"border: solid\">58</td>\n",
    "  </tr>\n",
    "  <tr>\n",
    "    <td>Positive</td>\n",
    "    <td style=\"border: solid\">8</td>\n",
    "    <td style=\"border: solid\"> 36</td>\n",
    "  </tr>\n",
    "</table>\n",
    "\n",
    "\n",
    "### Stretch goals\n",
    "- Calculate F1 score for the provided, imaginary confusion matrix.\n",
    "- Plot a real confusion matrix for your basketball model, with row and column labels.\n",
    "- Print the classification report for your model."
   ]
  },
  {
   "cell_type": "markdown",
   "metadata": {},
   "source": [
    "# Part 1 "
   ]
  },
  {
   "cell_type": "markdown",
   "metadata": {},
   "source": [
    "## Required"
   ]
  },
  {
   "cell_type": "code",
   "execution_count": 2,
   "metadata": {
    "scrolled": true
   },
   "outputs": [
    {
     "data": {
      "text/html": [
       "<div>\n",
       "<style scoped>\n",
       "    .dataframe tbody tr th:only-of-type {\n",
       "        vertical-align: middle;\n",
       "    }\n",
       "\n",
       "    .dataframe tbody tr th {\n",
       "        vertical-align: top;\n",
       "    }\n",
       "\n",
       "    .dataframe thead th {\n",
       "        text-align: right;\n",
       "    }\n",
       "</style>\n",
       "<table border=\"1\" class=\"dataframe\">\n",
       "  <thead>\n",
       "    <tr style=\"text-align: right;\">\n",
       "      <th></th>\n",
       "      <th>game_id</th>\n",
       "      <th>game_event_id</th>\n",
       "      <th>player_name</th>\n",
       "      <th>period</th>\n",
       "      <th>minutes_remaining</th>\n",
       "      <th>seconds_remaining</th>\n",
       "      <th>action_type</th>\n",
       "      <th>shot_type</th>\n",
       "      <th>shot_zone_basic</th>\n",
       "      <th>shot_zone_area</th>\n",
       "      <th>shot_zone_range</th>\n",
       "      <th>shot_distance</th>\n",
       "      <th>loc_x</th>\n",
       "      <th>loc_y</th>\n",
       "      <th>shot_made_flag</th>\n",
       "      <th>htm</th>\n",
       "      <th>vtm</th>\n",
       "      <th>season_type</th>\n",
       "      <th>scoremargin_before_shot</th>\n",
       "    </tr>\n",
       "    <tr>\n",
       "      <th>game_date</th>\n",
       "      <th></th>\n",
       "      <th></th>\n",
       "      <th></th>\n",
       "      <th></th>\n",
       "      <th></th>\n",
       "      <th></th>\n",
       "      <th></th>\n",
       "      <th></th>\n",
       "      <th></th>\n",
       "      <th></th>\n",
       "      <th></th>\n",
       "      <th></th>\n",
       "      <th></th>\n",
       "      <th></th>\n",
       "      <th></th>\n",
       "      <th></th>\n",
       "      <th></th>\n",
       "      <th></th>\n",
       "      <th></th>\n",
       "    </tr>\n",
       "  </thead>\n",
       "  <tbody>\n",
       "    <tr>\n",
       "      <th>2009-10-28</th>\n",
       "      <td>20900015</td>\n",
       "      <td>4</td>\n",
       "      <td>Stephen Curry</td>\n",
       "      <td>1</td>\n",
       "      <td>11</td>\n",
       "      <td>25</td>\n",
       "      <td>Jump Shot</td>\n",
       "      <td>3PT Field Goal</td>\n",
       "      <td>Above the Break 3</td>\n",
       "      <td>Right Side Center(RC)</td>\n",
       "      <td>24+ ft.</td>\n",
       "      <td>26</td>\n",
       "      <td>99</td>\n",
       "      <td>249</td>\n",
       "      <td>0</td>\n",
       "      <td>GSW</td>\n",
       "      <td>HOU</td>\n",
       "      <td>Regular Season</td>\n",
       "      <td>2.0</td>\n",
       "    </tr>\n",
       "    <tr>\n",
       "      <th>2009-10-28</th>\n",
       "      <td>20900015</td>\n",
       "      <td>17</td>\n",
       "      <td>Stephen Curry</td>\n",
       "      <td>1</td>\n",
       "      <td>9</td>\n",
       "      <td>31</td>\n",
       "      <td>Step Back Jump shot</td>\n",
       "      <td>2PT Field Goal</td>\n",
       "      <td>Mid-Range</td>\n",
       "      <td>Left Side Center(LC)</td>\n",
       "      <td>16-24 ft.</td>\n",
       "      <td>18</td>\n",
       "      <td>-122</td>\n",
       "      <td>145</td>\n",
       "      <td>1</td>\n",
       "      <td>GSW</td>\n",
       "      <td>HOU</td>\n",
       "      <td>Regular Season</td>\n",
       "      <td>0.0</td>\n",
       "    </tr>\n",
       "    <tr>\n",
       "      <th>2009-10-28</th>\n",
       "      <td>20900015</td>\n",
       "      <td>53</td>\n",
       "      <td>Stephen Curry</td>\n",
       "      <td>1</td>\n",
       "      <td>6</td>\n",
       "      <td>2</td>\n",
       "      <td>Jump Shot</td>\n",
       "      <td>2PT Field Goal</td>\n",
       "      <td>In The Paint (Non-RA)</td>\n",
       "      <td>Center(C)</td>\n",
       "      <td>8-16 ft.</td>\n",
       "      <td>14</td>\n",
       "      <td>-60</td>\n",
       "      <td>129</td>\n",
       "      <td>0</td>\n",
       "      <td>GSW</td>\n",
       "      <td>HOU</td>\n",
       "      <td>Regular Season</td>\n",
       "      <td>-4.0</td>\n",
       "    </tr>\n",
       "    <tr>\n",
       "      <th>2009-10-28</th>\n",
       "      <td>20900015</td>\n",
       "      <td>141</td>\n",
       "      <td>Stephen Curry</td>\n",
       "      <td>2</td>\n",
       "      <td>9</td>\n",
       "      <td>49</td>\n",
       "      <td>Jump Shot</td>\n",
       "      <td>2PT Field Goal</td>\n",
       "      <td>Mid-Range</td>\n",
       "      <td>Left Side(L)</td>\n",
       "      <td>16-24 ft.</td>\n",
       "      <td>19</td>\n",
       "      <td>-172</td>\n",
       "      <td>82</td>\n",
       "      <td>0</td>\n",
       "      <td>GSW</td>\n",
       "      <td>HOU</td>\n",
       "      <td>Regular Season</td>\n",
       "      <td>-4.0</td>\n",
       "    </tr>\n",
       "    <tr>\n",
       "      <th>2009-10-28</th>\n",
       "      <td>20900015</td>\n",
       "      <td>249</td>\n",
       "      <td>Stephen Curry</td>\n",
       "      <td>2</td>\n",
       "      <td>2</td>\n",
       "      <td>19</td>\n",
       "      <td>Jump Shot</td>\n",
       "      <td>2PT Field Goal</td>\n",
       "      <td>Mid-Range</td>\n",
       "      <td>Left Side Center(LC)</td>\n",
       "      <td>16-24 ft.</td>\n",
       "      <td>16</td>\n",
       "      <td>-68</td>\n",
       "      <td>148</td>\n",
       "      <td>0</td>\n",
       "      <td>GSW</td>\n",
       "      <td>HOU</td>\n",
       "      <td>Regular Season</td>\n",
       "      <td>0.0</td>\n",
       "    </tr>\n",
       "  </tbody>\n",
       "</table>\n",
       "</div>"
      ],
      "text/plain": [
       "             game_id  game_event_id    player_name  period  minutes_remaining  \\\n",
       "game_date                                                                       \n",
       "2009-10-28  20900015              4  Stephen Curry       1                 11   \n",
       "2009-10-28  20900015             17  Stephen Curry       1                  9   \n",
       "2009-10-28  20900015             53  Stephen Curry       1                  6   \n",
       "2009-10-28  20900015            141  Stephen Curry       2                  9   \n",
       "2009-10-28  20900015            249  Stephen Curry       2                  2   \n",
       "\n",
       "            seconds_remaining          action_type       shot_type  \\\n",
       "game_date                                                            \n",
       "2009-10-28                 25            Jump Shot  3PT Field Goal   \n",
       "2009-10-28                 31  Step Back Jump shot  2PT Field Goal   \n",
       "2009-10-28                  2            Jump Shot  2PT Field Goal   \n",
       "2009-10-28                 49            Jump Shot  2PT Field Goal   \n",
       "2009-10-28                 19            Jump Shot  2PT Field Goal   \n",
       "\n",
       "                  shot_zone_basic         shot_zone_area shot_zone_range  \\\n",
       "game_date                                                                  \n",
       "2009-10-28      Above the Break 3  Right Side Center(RC)         24+ ft.   \n",
       "2009-10-28              Mid-Range   Left Side Center(LC)       16-24 ft.   \n",
       "2009-10-28  In The Paint (Non-RA)              Center(C)        8-16 ft.   \n",
       "2009-10-28              Mid-Range           Left Side(L)       16-24 ft.   \n",
       "2009-10-28              Mid-Range   Left Side Center(LC)       16-24 ft.   \n",
       "\n",
       "            shot_distance  loc_x  loc_y  shot_made_flag  htm  vtm  \\\n",
       "game_date                                                           \n",
       "2009-10-28             26     99    249               0  GSW  HOU   \n",
       "2009-10-28             18   -122    145               1  GSW  HOU   \n",
       "2009-10-28             14    -60    129               0  GSW  HOU   \n",
       "2009-10-28             19   -172     82               0  GSW  HOU   \n",
       "2009-10-28             16    -68    148               0  GSW  HOU   \n",
       "\n",
       "               season_type  scoremargin_before_shot  \n",
       "game_date                                            \n",
       "2009-10-28  Regular Season                      2.0  \n",
       "2009-10-28  Regular Season                      0.0  \n",
       "2009-10-28  Regular Season                     -4.0  \n",
       "2009-10-28  Regular Season                     -4.0  \n",
       "2009-10-28  Regular Season                      0.0  "
      ]
     },
     "execution_count": 2,
     "metadata": {},
     "output_type": "execute_result"
    }
   ],
   "source": [
    "df.head()"
   ]
  },
  {
   "cell_type": "code",
   "execution_count": 3,
   "metadata": {},
   "outputs": [
    {
     "data": {
      "text/html": [
       "<div>\n",
       "<style scoped>\n",
       "    .dataframe tbody tr th:only-of-type {\n",
       "        vertical-align: middle;\n",
       "    }\n",
       "\n",
       "    .dataframe tbody tr th {\n",
       "        vertical-align: top;\n",
       "    }\n",
       "\n",
       "    .dataframe thead th {\n",
       "        text-align: right;\n",
       "    }\n",
       "</style>\n",
       "<table border=\"1\" class=\"dataframe\">\n",
       "  <thead>\n",
       "    <tr style=\"text-align: right;\">\n",
       "      <th></th>\n",
       "      <th>game_id</th>\n",
       "      <th>game_event_id</th>\n",
       "      <th>player_name</th>\n",
       "      <th>period</th>\n",
       "      <th>minutes_remaining</th>\n",
       "      <th>seconds_remaining</th>\n",
       "      <th>action_type</th>\n",
       "      <th>shot_type</th>\n",
       "      <th>shot_zone_basic</th>\n",
       "      <th>shot_zone_area</th>\n",
       "      <th>shot_zone_range</th>\n",
       "      <th>shot_distance</th>\n",
       "      <th>loc_x</th>\n",
       "      <th>loc_y</th>\n",
       "      <th>shot_made_flag</th>\n",
       "      <th>htm</th>\n",
       "      <th>vtm</th>\n",
       "      <th>season_type</th>\n",
       "      <th>scoremargin_before_shot</th>\n",
       "    </tr>\n",
       "    <tr>\n",
       "      <th>game_date</th>\n",
       "      <th></th>\n",
       "      <th></th>\n",
       "      <th></th>\n",
       "      <th></th>\n",
       "      <th></th>\n",
       "      <th></th>\n",
       "      <th></th>\n",
       "      <th></th>\n",
       "      <th></th>\n",
       "      <th></th>\n",
       "      <th></th>\n",
       "      <th></th>\n",
       "      <th></th>\n",
       "      <th></th>\n",
       "      <th></th>\n",
       "      <th></th>\n",
       "      <th></th>\n",
       "      <th></th>\n",
       "      <th></th>\n",
       "    </tr>\n",
       "  </thead>\n",
       "  <tbody>\n",
       "    <tr>\n",
       "      <th>2019-06-05</th>\n",
       "      <td>41800403</td>\n",
       "      <td>570</td>\n",
       "      <td>Stephen Curry</td>\n",
       "      <td>4</td>\n",
       "      <td>8</td>\n",
       "      <td>1</td>\n",
       "      <td>Pullup Jump shot</td>\n",
       "      <td>2PT Field Goal</td>\n",
       "      <td>In The Paint (Non-RA)</td>\n",
       "      <td>Center(C)</td>\n",
       "      <td>8-16 ft.</td>\n",
       "      <td>12</td>\n",
       "      <td>3</td>\n",
       "      <td>120</td>\n",
       "      <td>1</td>\n",
       "      <td>GSW</td>\n",
       "      <td>TOR</td>\n",
       "      <td>Playoffs</td>\n",
       "      <td>-13.0</td>\n",
       "    </tr>\n",
       "    <tr>\n",
       "      <th>2019-06-05</th>\n",
       "      <td>41800403</td>\n",
       "      <td>573</td>\n",
       "      <td>Stephen Curry</td>\n",
       "      <td>4</td>\n",
       "      <td>7</td>\n",
       "      <td>16</td>\n",
       "      <td>Floating Jump shot</td>\n",
       "      <td>2PT Field Goal</td>\n",
       "      <td>Mid-Range</td>\n",
       "      <td>Right Side(R)</td>\n",
       "      <td>8-16 ft.</td>\n",
       "      <td>11</td>\n",
       "      <td>114</td>\n",
       "      <td>-5</td>\n",
       "      <td>0</td>\n",
       "      <td>GSW</td>\n",
       "      <td>TOR</td>\n",
       "      <td>Playoffs</td>\n",
       "      <td>-14.0</td>\n",
       "    </tr>\n",
       "    <tr>\n",
       "      <th>2019-06-05</th>\n",
       "      <td>41800403</td>\n",
       "      <td>602</td>\n",
       "      <td>Stephen Curry</td>\n",
       "      <td>4</td>\n",
       "      <td>5</td>\n",
       "      <td>27</td>\n",
       "      <td>Step Back Jump shot</td>\n",
       "      <td>3PT Field Goal</td>\n",
       "      <td>Above the Break 3</td>\n",
       "      <td>Left Side Center(LC)</td>\n",
       "      <td>24+ ft.</td>\n",
       "      <td>26</td>\n",
       "      <td>-217</td>\n",
       "      <td>149</td>\n",
       "      <td>0</td>\n",
       "      <td>GSW</td>\n",
       "      <td>TOR</td>\n",
       "      <td>Playoffs</td>\n",
       "      <td>-17.0</td>\n",
       "    </tr>\n",
       "    <tr>\n",
       "      <th>2019-06-05</th>\n",
       "      <td>41800403</td>\n",
       "      <td>608</td>\n",
       "      <td>Stephen Curry</td>\n",
       "      <td>4</td>\n",
       "      <td>4</td>\n",
       "      <td>50</td>\n",
       "      <td>Driving Floating Jump Shot</td>\n",
       "      <td>2PT Field Goal</td>\n",
       "      <td>In The Paint (Non-RA)</td>\n",
       "      <td>Center(C)</td>\n",
       "      <td>Less Than 8 ft.</td>\n",
       "      <td>7</td>\n",
       "      <td>59</td>\n",
       "      <td>49</td>\n",
       "      <td>0</td>\n",
       "      <td>GSW</td>\n",
       "      <td>TOR</td>\n",
       "      <td>Playoffs</td>\n",
       "      <td>-16.0</td>\n",
       "    </tr>\n",
       "    <tr>\n",
       "      <th>2019-06-05</th>\n",
       "      <td>41800403</td>\n",
       "      <td>658</td>\n",
       "      <td>Stephen Curry</td>\n",
       "      <td>4</td>\n",
       "      <td>2</td>\n",
       "      <td>47</td>\n",
       "      <td>Jump Shot</td>\n",
       "      <td>3PT Field Goal</td>\n",
       "      <td>Above the Break 3</td>\n",
       "      <td>Left Side Center(LC)</td>\n",
       "      <td>24+ ft.</td>\n",
       "      <td>24</td>\n",
       "      <td>-226</td>\n",
       "      <td>104</td>\n",
       "      <td>0</td>\n",
       "      <td>GSW</td>\n",
       "      <td>TOR</td>\n",
       "      <td>Playoffs</td>\n",
       "      <td>-12.0</td>\n",
       "    </tr>\n",
       "  </tbody>\n",
       "</table>\n",
       "</div>"
      ],
      "text/plain": [
       "             game_id  game_event_id    player_name  period  minutes_remaining  \\\n",
       "game_date                                                                       \n",
       "2019-06-05  41800403            570  Stephen Curry       4                  8   \n",
       "2019-06-05  41800403            573  Stephen Curry       4                  7   \n",
       "2019-06-05  41800403            602  Stephen Curry       4                  5   \n",
       "2019-06-05  41800403            608  Stephen Curry       4                  4   \n",
       "2019-06-05  41800403            658  Stephen Curry       4                  2   \n",
       "\n",
       "            seconds_remaining                 action_type       shot_type  \\\n",
       "game_date                                                                   \n",
       "2019-06-05                  1            Pullup Jump shot  2PT Field Goal   \n",
       "2019-06-05                 16          Floating Jump shot  2PT Field Goal   \n",
       "2019-06-05                 27         Step Back Jump shot  3PT Field Goal   \n",
       "2019-06-05                 50  Driving Floating Jump Shot  2PT Field Goal   \n",
       "2019-06-05                 47                   Jump Shot  3PT Field Goal   \n",
       "\n",
       "                  shot_zone_basic        shot_zone_area  shot_zone_range  \\\n",
       "game_date                                                                  \n",
       "2019-06-05  In The Paint (Non-RA)             Center(C)         8-16 ft.   \n",
       "2019-06-05              Mid-Range         Right Side(R)         8-16 ft.   \n",
       "2019-06-05      Above the Break 3  Left Side Center(LC)          24+ ft.   \n",
       "2019-06-05  In The Paint (Non-RA)             Center(C)  Less Than 8 ft.   \n",
       "2019-06-05      Above the Break 3  Left Side Center(LC)          24+ ft.   \n",
       "\n",
       "            shot_distance  loc_x  loc_y  shot_made_flag  htm  vtm season_type  \\\n",
       "game_date                                                                       \n",
       "2019-06-05             12      3    120               1  GSW  TOR    Playoffs   \n",
       "2019-06-05             11    114     -5               0  GSW  TOR    Playoffs   \n",
       "2019-06-05             26   -217    149               0  GSW  TOR    Playoffs   \n",
       "2019-06-05              7     59     49               0  GSW  TOR    Playoffs   \n",
       "2019-06-05             24   -226    104               0  GSW  TOR    Playoffs   \n",
       "\n",
       "            scoremargin_before_shot  \n",
       "game_date                            \n",
       "2019-06-05                    -13.0  \n",
       "2019-06-05                    -14.0  \n",
       "2019-06-05                    -17.0  \n",
       "2019-06-05                    -16.0  \n",
       "2019-06-05                    -12.0  "
      ]
     },
     "execution_count": 3,
     "metadata": {},
     "output_type": "execute_result"
    }
   ],
   "source": [
    "df.tail(5)"
   ]
  },
  {
   "cell_type": "code",
   "execution_count": 4,
   "metadata": {},
   "outputs": [],
   "source": [
    "train = df.loc['2009-10':'2017-06'];\n",
    "val = df.loc['2017-10':'2018-06'];\n",
    "test = df.loc['2018-10':'2019-06'];\n",
    "train.shape, val.shape, test.shape\n",
    "\n",
    "assert (train.shape[0] + val.shape[0] + test.shape[0]) == df.shape[0]"
   ]
  },
  {
   "cell_type": "code",
   "execution_count": 5,
   "metadata": {},
   "outputs": [],
   "source": [
    "feature1 = ['shot_zone_range', 'action_type', 'shot_zone_basic']\n",
    "target = 'shot_made_flag';\n",
    "\n",
    "x_train = train[feature1];\n",
    "y_train = train[target];\n",
    "\n",
    "x_val = val[feature1];\n",
    "y_val = val[target];\n",
    "\n",
    "x_test = test[feature1];\n",
    "y_test = test[target];"
   ]
  },
  {
   "cell_type": "code",
   "execution_count": 6,
   "metadata": {},
   "outputs": [],
   "source": [
    "import category_encoders as ce;\n",
    "from sklearn.pipeline import make_pipeline;\n",
    "from sklearn.metrics import accuracy_score;\n",
    "from sklearn.impute import SimpleImputer;\n",
    "from sklearn.linear_model import LogisticRegression;\n",
    "from sklearn.linear_model import LinearRegression;\n",
    "\n",
    "pipeline = make_pipeline(\n",
    "    ce.OneHotEncoder(),\n",
    "    SimpleImputer(),\n",
    "    LogisticRegression()\n",
    ");"
   ]
  },
  {
   "cell_type": "code",
   "execution_count": 7,
   "metadata": {},
   "outputs": [
    {
     "name": "stderr",
     "output_type": "stream",
     "text": [
      "/Users/ashwin/anaconda3/lib/python3.7/site-packages/sklearn/linear_model/logistic.py:433: FutureWarning: Default solver will be changed to 'lbfgs' in 0.22. Specify a solver to silence this warning.\n",
      "  FutureWarning)\n"
     ]
    }
   ],
   "source": [
    "pipeline.fit(x_train, y_train);"
   ]
  },
  {
   "cell_type": "code",
   "execution_count": 8,
   "metadata": {},
   "outputs": [
    {
     "data": {
      "text/plain": [
       "0.6121575342465754"
      ]
     },
     "execution_count": 8,
     "metadata": {},
     "output_type": "execute_result"
    }
   ],
   "source": [
    "pipeline.score(x_val, y_val)"
   ]
  },
  {
   "cell_type": "code",
   "execution_count": 9,
   "metadata": {},
   "outputs": [
    {
     "data": {
      "text/plain": [
       "array([1, 1, 1, ..., 1, 1, 0])"
      ]
     },
     "execution_count": 9,
     "metadata": {},
     "output_type": "execute_result"
    }
   ],
   "source": [
    "pipeline.predict(x_test)"
   ]
  },
  {
   "cell_type": "markdown",
   "metadata": {},
   "source": [
    "## Stretch Goals"
   ]
  },
  {
   "cell_type": "code",
   "execution_count": 10,
   "metadata": {},
   "outputs": [
    {
     "data": {
      "text/plain": [
       "game_date\n",
       "2009-10-28    True\n",
       "2009-10-28    True\n",
       "2009-10-28    True\n",
       "2009-10-28    True\n",
       "2009-10-28    True\n",
       "Name: homecourt_advantage, dtype: bool"
      ]
     },
     "execution_count": 10,
     "metadata": {},
     "output_type": "execute_result"
    }
   ],
   "source": [
    "df['homecourt_advantage'] = df['htm'] == 'GSW'\n",
    "df['homecourt_advantage'].head()"
   ]
  },
  {
   "cell_type": "code",
   "execution_count": 11,
   "metadata": {},
   "outputs": [
    {
     "data": {
      "text/plain": [
       "game_date\n",
       "2009-10-28    685\n",
       "2009-10-28    571\n",
       "2009-10-28    362\n",
       "2009-10-28    589\n",
       "2009-10-28    139\n",
       "Name: seconds_remaining_in_period, dtype: int64"
      ]
     },
     "execution_count": 11,
     "metadata": {},
     "output_type": "execute_result"
    }
   ],
   "source": [
    "df['seconds_remaining_in_period'] = df['seconds_remaining'] + df['minutes_remaining'] * 60;\n",
    "df['seconds_remaining_in_period'].head()"
   ]
  },
  {
   "cell_type": "code",
   "execution_count": 12,
   "metadata": {},
   "outputs": [
    {
     "data": {
      "text/plain": [
       "game_date\n",
       "2009-10-28    721\n",
       "2009-10-28    607\n",
       "2009-10-28    398\n",
       "2009-10-28    613\n",
       "2009-10-28    163\n",
       "Name: seconds_remaining_in_game, dtype: int64"
      ]
     },
     "execution_count": 12,
     "metadata": {},
     "output_type": "execute_result"
    }
   ],
   "source": [
    "df['seconds_remaining_in_game'] = df['seconds_remaining_in_period'] + 12 * (4 - df['period'])\n",
    "df['seconds_remaining_in_game'].head()"
   ]
  },
  {
   "cell_type": "code",
   "execution_count": 13,
   "metadata": {},
   "outputs": [
    {
     "name": "stdout",
     "output_type": "stream",
     "text": [
      "13958\n",
      "13958\n"
     ]
    }
   ],
   "source": [
    "import numpy as np;\n",
    "shot_made = df['shot_made_flag'].tolist();\n",
    "print(len(shot_made))\n",
    "shot_made.pop(len(shot_made)-1)\n",
    "shot_made.insert(0, 0)\n",
    "print(len(shot_made))"
   ]
  },
  {
   "cell_type": "code",
   "execution_count": 14,
   "metadata": {},
   "outputs": [
    {
     "data": {
      "text/plain": [
       "game_date\n",
       "2009-10-28    0\n",
       "2009-10-28    0\n",
       "2009-10-28    1\n",
       "2009-10-28    0\n",
       "2009-10-28    0\n",
       "Name: made_previous_shot, dtype: int64"
      ]
     },
     "execution_count": 14,
     "metadata": {},
     "output_type": "execute_result"
    }
   ],
   "source": [
    "df['made_previous_shot'] = shot_made;\n",
    "df['made_previous_shot'].head()"
   ]
  },
  {
   "cell_type": "markdown",
   "metadata": {},
   "source": [
    "# Part 2"
   ]
  },
  {
   "cell_type": "markdown",
   "metadata": {},
   "source": [
    "## Required"
   ]
  },
  {
   "cell_type": "code",
   "execution_count": 15,
   "metadata": {},
   "outputs": [
    {
     "name": "stdout",
     "output_type": "stream",
     "text": [
      "Validation Accuracy: 0.6121575342465754\n"
     ]
    }
   ],
   "source": [
    "print(f'Validation Accuracy: {pipeline.score(x_val, y_val)}');"
   ]
  },
  {
   "cell_type": "code",
   "execution_count": 16,
   "metadata": {},
   "outputs": [
    {
     "name": "stdout",
     "output_type": "stream",
     "text": [
      "Test Accuracy: 0.6214160327677004\n"
     ]
    }
   ],
   "source": [
    "print(f'Test Accuracy: {pipeline.score(x_test, y_test)}');"
   ]
  },
  {
   "cell_type": "code",
   "execution_count": 17,
   "metadata": {},
   "outputs": [
    {
     "data": {
      "text/plain": [
       "array([[85, 58],\n",
       "       [ 8, 36]])"
      ]
     },
     "execution_count": 17,
     "metadata": {},
     "output_type": "execute_result"
    }
   ],
   "source": [
    "import numpy as np;\n",
    "matrix = np.array([[85, 58], [8, 36]]);\n",
    "matrix"
   ]
  },
  {
   "cell_type": "code",
   "execution_count": 18,
   "metadata": {},
   "outputs": [
    {
     "data": {
      "text/plain": [
       "0.6470588235294118"
      ]
     },
     "execution_count": 18,
     "metadata": {},
     "output_type": "execute_result"
    }
   ],
   "source": [
    "accuracy = (85+36)/(85+58+8+36)\n",
    "accuracy"
   ]
  },
  {
   "cell_type": "code",
   "execution_count": 19,
   "metadata": {},
   "outputs": [
    {
     "data": {
      "text/plain": [
       "36"
      ]
     },
     "execution_count": 19,
     "metadata": {},
     "output_type": "execute_result"
    }
   ],
   "source": [
    "correct_predictions = matrix[1][1];\n",
    "correct_predictions"
   ]
  },
  {
   "cell_type": "code",
   "execution_count": 20,
   "metadata": {},
   "outputs": [
    {
     "data": {
      "text/plain": [
       "121"
      ]
     },
     "execution_count": 20,
     "metadata": {},
     "output_type": "execute_result"
    }
   ],
   "source": [
    "total_predictions = matrix[0][0] + matrix[1][1];\n",
    "total_predictions"
   ]
  },
  {
   "cell_type": "code",
   "execution_count": 21,
   "metadata": {},
   "outputs": [
    {
     "data": {
      "text/plain": [
       "0.2975206611570248"
      ]
     },
     "execution_count": 21,
     "metadata": {},
     "output_type": "execute_result"
    }
   ],
   "source": [
    "percision = correct_predictions/total_predictions;\n",
    "percision"
   ]
  },
  {
   "cell_type": "code",
   "execution_count": 22,
   "metadata": {},
   "outputs": [
    {
     "data": {
      "text/plain": [
       "44"
      ]
     },
     "execution_count": 22,
     "metadata": {},
     "output_type": "execute_result"
    }
   ],
   "source": [
    "actual = matrix[1][0] + matrix[1][1];\n",
    "actual"
   ]
  },
  {
   "cell_type": "code",
   "execution_count": 23,
   "metadata": {},
   "outputs": [
    {
     "data": {
      "text/plain": [
       "0.8181818181818182"
      ]
     },
     "execution_count": 23,
     "metadata": {},
     "output_type": "execute_result"
    }
   ],
   "source": [
    "recall = correct_predictions/actual;\n",
    "recall"
   ]
  },
  {
   "cell_type": "markdown",
   "metadata": {},
   "source": [
    "## Stretch Goals"
   ]
  },
  {
   "cell_type": "code",
   "execution_count": 24,
   "metadata": {},
   "outputs": [
    {
     "name": "stdout",
     "output_type": "stream",
     "text": [
      "F! Score: 0.6104756170981336\n"
     ]
    }
   ],
   "source": [
    "from sklearn.metrics import f1_score, confusion_matrix, classification_report;\n",
    "y_pred = pipeline.predict(x_test);\n",
    "f1 = f1_score(y_test, y_pred)\n",
    "print(f'F! Score: {f1}')"
   ]
  },
  {
   "cell_type": "code",
   "execution_count": 27,
   "metadata": {},
   "outputs": [
    {
     "data": {
      "text/plain": [
       "<matplotlib.axes._subplots.AxesSubplot at 0x1a1a95ae10>"
      ]
     },
     "execution_count": 27,
     "metadata": {},
     "output_type": "execute_result"
    },
    {
     "data": {
      "image/png": "[encoded data removed]",
      "text/plain": [
       "<Figure size 432x288 with 2 Axes>"
      ]
     },
     "metadata": {
      "needs_background": "light"
     },
     "output_type": "display_data"
    }
   ],
   "source": [
    "import seaborn as sns;\n",
    "\n",
    "confusion = confusion_matrix(y_test, y_pred);\n",
    "\n",
    "sns.heatmap(confusion, cmap='viridis', annot=True, fmt='d')"
   ]
  },
  {
   "cell_type": "code",
   "execution_count": 26,
   "metadata": {},
   "outputs": [
    {
     "name": "stdout",
     "output_type": "stream",
     "text": [
      "              precision    recall  f1-score   support\n",
      "\n",
      "           0       0.66      0.61      0.63       912\n",
      "           1       0.59      0.64      0.61       797\n",
      "\n",
      "   micro avg       0.62      0.62      0.62      1709\n",
      "   macro avg       0.62      0.62      0.62      1709\n",
      "weighted avg       0.62      0.62      0.62      1709\n",
      "\n"
     ]
    }
   ],
   "source": [
    "print(classification_report(y_test, y_pred))"
   ]
  }
 ],
 "metadata": {
  "colab": {
   "name": "DS_Sprint_Challenge_7_Classification_1.ipynb",
   "provenance": [],
   "version": "0.3.2"
  },
  "kernelspec": {
   "display_name": "Python 3",
   "language": "python",
   "name": "python3"
  },
  "language_info": {
   "codemirror_mode": {
    "name": "ipython",
    "version": 3
   },
   "file_extension": ".py",
   "mimetype": "text/x-python",
   "name": "python",
   "nbconvert_exporter": "python",
   "pygments_lexer": "ipython3",
   "version": "3.7.3"
  }
 },
 "nbformat": 4,
 "nbformat_minor": 1
}
